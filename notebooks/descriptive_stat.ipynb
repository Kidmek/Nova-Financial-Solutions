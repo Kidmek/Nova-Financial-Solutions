{
  "cells": [
    {
      "cell_type": "code",
      "execution_count": 1,
      "metadata": {},
      "outputs": [
        {
          "data": {
            "text/plain": [
              "<module 'scripts.descriptive_stat' from 'c:\\\\Users\\\\kidus\\\\IdeaProjects\\\\Personal\\\\10 Academy\\\\Kifiya\\\\Week 1\\\\Technical  Content\\\\task\\\\scripts\\\\descriptive_stat.py'>"
            ]
          },
          "execution_count": 1,
          "metadata": {},
          "output_type": "execute_result"
        }
      ],
      "source": [
        "import sys\n",
        "import os\n",
        "import importlib\n",
        "from itables import show\n",
        "\n",
        "# Add the root directory to the system path\n",
        "sys.path.append(os.path.abspath(os.path.join(os.getcwd(), '..')))\n",
        "\n",
        "from scripts import data_loading,descriptive_stat\n",
        "\n",
        "importlib.reload(data_loading)\n",
        "importlib.reload(descriptive_stat)\n"
      ]
    },
    {
      "cell_type": "code",
      "execution_count": null,
      "metadata": {},
      "outputs": [],
      "source": [
        "# Loading in data\n",
        "data = data_loading.load_data('raw_analyst',classes=\"display compact\")"
      ]
    },
    {
      "cell_type": "code",
      "execution_count": null,
      "metadata": {},
      "outputs": [],
      "source": [
        "display(data.head(20))"
      ]
    },
    {
      "cell_type": "code",
      "execution_count": null,
      "metadata": {},
      "outputs": [],
      "source": [
        "# Basic Stats\n",
        "display(descriptive_stat.basic_stats(data))"
      ]
    },
    {
      "cell_type": "code",
      "execution_count": null,
      "metadata": {},
      "outputs": [],
      "source": [
        "#Articles per publisher\n",
        "show(descriptive_stat.articles_per_publisher(data))"
      ]
    },
    {
      "cell_type": "code",
      "execution_count": null,
      "metadata": {},
      "outputs": [],
      "source": [
        "# Publication Date Analysis\n",
        "descriptive_stat.pub_date_analysis(data)"
      ]
    }
  ],
  "metadata": {
    "kernelspec": {
      "display_name": ".venv",
      "language": "python",
      "name": "python3"
    },
    "language_info": {
      "codemirror_mode": {
        "name": "ipython",
        "version": 3
      },
      "file_extension": ".py",
      "mimetype": "text/x-python",
      "name": "python",
      "nbconvert_exporter": "python",
      "pygments_lexer": "ipython3",
      "version": "3.10.7"
    }
  },
  "nbformat": 4,
  "nbformat_minor": 2
}
