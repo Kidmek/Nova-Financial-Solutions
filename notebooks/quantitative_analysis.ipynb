{
 "cells": [
  {
   "cell_type": "code",
   "execution_count": null,
   "metadata": {},
   "outputs": [],
   "source": [
    "import sys\n",
    "import os\n",
    "import importlib\n",
    "from itables import show\n",
    "\n",
    "# Add the root directory to the system path\n",
    "sys.path.append(os.path.abspath(os.path.join(os.getcwd(), '..')))\n",
    "\n",
    "from scripts import data_loading,technical_indicators\n",
    "\n",
    "importlib.reload(data_loading)\n",
    "importlib.reload(technical_indicators)\n"
   ]
  },
  {
   "cell_type": "code",
   "execution_count": null,
   "metadata": {},
   "outputs": [],
   "source": [
    "# Loading in data\n",
    "data = data_loading.load_data('yfinance_data')\n",
    "show(data)"
   ]
  },
  {
   "cell_type": "code",
   "execution_count": null,
   "metadata": {},
   "outputs": [],
   "source": [
    "# Adding technical indicators and visualization\n",
    "data= technical_indicators.add_technical_indicators(data)\n",
    "show(data)\n",
    "technical_indicators.visualize_with_indicators(data)"
   ]
  },
  {
   "cell_type": "code",
   "execution_count": null,
   "metadata": {},
   "outputs": [],
   "source": [
    "show(data)\n",
    "technical_indicators.visualize_with_indicators(data)\n",
    "show(technical_indicators.financial_metrics(data))"
   ]
  },
  {
   "cell_type": "code",
   "execution_count": null,
   "metadata": {},
   "outputs": [],
   "source": [
    "# PyNance for financial metrics\n",
    "show(technical_indicators.financial_metrics(data))\n"
   ]
  }
 ],
 "metadata": {
  "language_info": {
   "name": "python"
  }
 },
 "nbformat": 4,
 "nbformat_minor": 2
}
